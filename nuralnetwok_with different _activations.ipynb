{
 "cells": [
  {
   "cell_type": "code",
   "execution_count": 1,
   "id": "d48594e7",
   "metadata": {},
   "outputs": [],
   "source": [
    "import numpy as np\n",
    "import pandas as pd \n",
    "import matplotlib.pyplot as plt\n",
    "import seaborn as sns\n",
    "%matplotlib inline "
   ]
  },
  {
   "cell_type": "code",
   "execution_count": 2,
   "id": "e124cee4",
   "metadata": {},
   "outputs": [],
   "source": [
    "df = pd.read_csv('gold fund.csv')"
   ]
  },
  {
   "cell_type": "code",
   "execution_count": 3,
   "id": "965f9c2e",
   "metadata": {},
   "outputs": [
    {
     "data": {
      "text/html": [
       "<div>\n",
       "<style scoped>\n",
       "    .dataframe tbody tr th:only-of-type {\n",
       "        vertical-align: middle;\n",
       "    }\n",
       "\n",
       "    .dataframe tbody tr th {\n",
       "        vertical-align: top;\n",
       "    }\n",
       "\n",
       "    .dataframe thead th {\n",
       "        text-align: right;\n",
       "    }\n",
       "</style>\n",
       "<table border=\"1\" class=\"dataframe\">\n",
       "  <thead>\n",
       "    <tr style=\"text-align: right;\">\n",
       "      <th></th>\n",
       "      <th>ID</th>\n",
       "      <th>Gender</th>\n",
       "      <th>AMB</th>\n",
       "      <th>AccountSince</th>\n",
       "      <th>RelationshipSize</th>\n",
       "      <th>AvgMonthlyTxn</th>\n",
       "      <th>DematAccounts</th>\n",
       "      <th>FD_Nos</th>\n",
       "      <th>MF_nos</th>\n",
       "      <th>Equity_mfs</th>\n",
       "      <th>Debt_mfs</th>\n",
       "      <th>Balanced_Funds</th>\n",
       "      <th>ELSS</th>\n",
       "      <th>PMS_accounts</th>\n",
       "      <th>Trading_Accounts</th>\n",
       "      <th>Speciality_funds</th>\n",
       "      <th>Gold_Fund</th>\n",
       "    </tr>\n",
       "  </thead>\n",
       "  <tbody>\n",
       "    <tr>\n",
       "      <th>0</th>\n",
       "      <td>25</td>\n",
       "      <td>1</td>\n",
       "      <td>297</td>\n",
       "      <td>22</td>\n",
       "      <td>2</td>\n",
       "      <td>14</td>\n",
       "      <td>0</td>\n",
       "      <td>1</td>\n",
       "      <td>1</td>\n",
       "      <td>0</td>\n",
       "      <td>0</td>\n",
       "      <td>0</td>\n",
       "      <td>0</td>\n",
       "      <td>0</td>\n",
       "      <td>0</td>\n",
       "      <td>0</td>\n",
       "      <td>0</td>\n",
       "    </tr>\n",
       "    <tr>\n",
       "      <th>1</th>\n",
       "      <td>46</td>\n",
       "      <td>1</td>\n",
       "      <td>138</td>\n",
       "      <td>56</td>\n",
       "      <td>7</td>\n",
       "      <td>22</td>\n",
       "      <td>2</td>\n",
       "      <td>1</td>\n",
       "      <td>2</td>\n",
       "      <td>0</td>\n",
       "      <td>1</td>\n",
       "      <td>0</td>\n",
       "      <td>1</td>\n",
       "      <td>1</td>\n",
       "      <td>0</td>\n",
       "      <td>0</td>\n",
       "      <td>0</td>\n",
       "    </tr>\n",
       "    <tr>\n",
       "      <th>2</th>\n",
       "      <td>47</td>\n",
       "      <td>1</td>\n",
       "      <td>228</td>\n",
       "      <td>2</td>\n",
       "      <td>1</td>\n",
       "      <td>2</td>\n",
       "      <td>0</td>\n",
       "      <td>0</td>\n",
       "      <td>0</td>\n",
       "      <td>0</td>\n",
       "      <td>0</td>\n",
       "      <td>0</td>\n",
       "      <td>0</td>\n",
       "      <td>0</td>\n",
       "      <td>0</td>\n",
       "      <td>0</td>\n",
       "      <td>0</td>\n",
       "    </tr>\n",
       "    <tr>\n",
       "      <th>3</th>\n",
       "      <td>61</td>\n",
       "      <td>1</td>\n",
       "      <td>190</td>\n",
       "      <td>16</td>\n",
       "      <td>1</td>\n",
       "      <td>16</td>\n",
       "      <td>0</td>\n",
       "      <td>0</td>\n",
       "      <td>0</td>\n",
       "      <td>0</td>\n",
       "      <td>0</td>\n",
       "      <td>0</td>\n",
       "      <td>1</td>\n",
       "      <td>0</td>\n",
       "      <td>0</td>\n",
       "      <td>0</td>\n",
       "      <td>0</td>\n",
       "    </tr>\n",
       "    <tr>\n",
       "      <th>4</th>\n",
       "      <td>79</td>\n",
       "      <td>1</td>\n",
       "      <td>187</td>\n",
       "      <td>14</td>\n",
       "      <td>1</td>\n",
       "      <td>14</td>\n",
       "      <td>1</td>\n",
       "      <td>0</td>\n",
       "      <td>0</td>\n",
       "      <td>0</td>\n",
       "      <td>0</td>\n",
       "      <td>0</td>\n",
       "      <td>0</td>\n",
       "      <td>0</td>\n",
       "      <td>0</td>\n",
       "      <td>0</td>\n",
       "      <td>0</td>\n",
       "    </tr>\n",
       "  </tbody>\n",
       "</table>\n",
       "</div>"
      ],
      "text/plain": [
       "   ID  Gender  AMB  AccountSince  RelationshipSize  AvgMonthlyTxn  \\\n",
       "0  25       1  297            22                 2             14   \n",
       "1  46       1  138            56                 7             22   \n",
       "2  47       1  228             2                 1              2   \n",
       "3  61       1  190            16                 1             16   \n",
       "4  79       1  187            14                 1             14   \n",
       "\n",
       "   DematAccounts  FD_Nos  MF_nos  Equity_mfs  Debt_mfs  Balanced_Funds  ELSS  \\\n",
       "0              0       1       1           0         0               0     0   \n",
       "1              2       1       2           0         1               0     1   \n",
       "2              0       0       0           0         0               0     0   \n",
       "3              0       0       0           0         0               0     1   \n",
       "4              1       0       0           0         0               0     0   \n",
       "\n",
       "   PMS_accounts  Trading_Accounts  Speciality_funds  Gold_Fund  \n",
       "0             0                 0                 0          0  \n",
       "1             1                 0                 0          0  \n",
       "2             0                 0                 0          0  \n",
       "3             0                 0                 0          0  \n",
       "4             0                 0                 0          0  "
      ]
     },
     "execution_count": 3,
     "metadata": {},
     "output_type": "execute_result"
    }
   ],
   "source": [
    "df.head()"
   ]
  },
  {
   "cell_type": "code",
   "execution_count": 4,
   "id": "00b44cf2",
   "metadata": {},
   "outputs": [],
   "source": [
    "#separate the feature and outcome \n",
    "x = df.iloc[:,1:-1]\n",
    "y = df.Gold_Fund"
   ]
  },
  {
   "cell_type": "code",
   "execution_count": 5,
   "id": "137626fa",
   "metadata": {},
   "outputs": [],
   "source": [
    "#split the data \n",
    "from sklearn.model_selection import train_test_split"
   ]
  },
  {
   "cell_type": "code",
   "execution_count": 6,
   "id": "f6db3ca4",
   "metadata": {},
   "outputs": [],
   "source": [
    "x_train,x_test,y_train,y_test   = train_test_split(x,y)"
   ]
  },
  {
   "cell_type": "code",
   "execution_count": 7,
   "id": "5f43a451",
   "metadata": {},
   "outputs": [],
   "source": [
    "#staderdise the data \n",
    "from sklearn.preprocessing import StandardScaler"
   ]
  },
  {
   "cell_type": "code",
   "execution_count": 8,
   "id": "6e609015",
   "metadata": {},
   "outputs": [
    {
     "data": {
      "text/plain": [
       "StandardScaler()"
      ]
     },
     "execution_count": 8,
     "metadata": {},
     "output_type": "execute_result"
    }
   ],
   "source": [
    "stdSc = StandardScaler()\n",
    "stdSc.fit(x_train)"
   ]
  },
  {
   "cell_type": "code",
   "execution_count": 9,
   "id": "3030299c",
   "metadata": {},
   "outputs": [],
   "source": [
    "x_train_std = stdSc.transform(x_train)\n",
    "x_test_std = stdSc.transform(x_test)"
   ]
  },
  {
   "cell_type": "code",
   "execution_count": 10,
   "id": "0a149971",
   "metadata": {},
   "outputs": [],
   "source": [
    "from keras.models import Sequential\n",
    "from tensorflow.keras.layers import Dense,Activation\n",
    "\n",
    "#model = Sequential()"
   ]
  },
  {
   "cell_type": "code",
   "execution_count": 15,
   "id": "674777ad",
   "metadata": {},
   "outputs": [],
   "source": [
    "model = Sequential()\n",
    "#hidden layes \n",
    "model.add(Dense(20,activation = 'sigmoid'))\n",
    "model.add(Dense(20,activation = 'sigmoid'))\n",
    "#ouput layes\n",
    "model.add(Dense(1,activation = 'sigmoid'))\n"
   ]
  },
  {
   "cell_type": "code",
   "execution_count": 16,
   "id": "cdb06de0",
   "metadata": {},
   "outputs": [],
   "source": [
    "model.compile(loss = 'binary_crossentropy',optimizer = 'adam',metrics = ['accuracy'])\n"
   ]
  },
  {
   "cell_type": "code",
   "execution_count": 17,
   "id": "cbebf3a6",
   "metadata": {},
   "outputs": [
    {
     "data": {
      "image/png": "[encoded data removed]",
      "text/plain": [
       "<Figure size 864x576 with 2 Axes>"
      ]
     },
     "metadata": {
      "needs_background": "light"
     },
     "output_type": "display_data"
    },
    {
     "name": "stdout",
     "output_type": "stream",
     "text": [
      "accuracy\n",
      "\ttraining         \t (min:    0.922, max:    0.924, cur:    0.924)\n",
      "\tvalidation       \t (min:    0.909, max:    0.913, cur:    0.913)\n",
      "Loss\n",
      "\ttraining         \t (min:    0.218, max:    0.522, cur:    0.218)\n",
      "\tvalidation       \t (min:    0.248, max:    0.459, cur:    0.248)\n",
      "\b\b\b\b\b\b\b\b\b\b\b\b\b\b\b\b\b\b\b\b\b\b\b\b\b\b\b\b\b\b\b\b\b\b\b\b\b\b\b\b\b\b\b\b\b\b\b\b\b\b\b\b\b\b\b\b\b\b\b\b\b\b\b\b\b\b\b\b\b\b\b\b\b\b\b\b\b\b\b\b\b\b\r",
      "21/21 [==============================] - 1s 39ms/step - loss: 0.2183 - accuracy: 0.9237 - val_loss: 0.2482 - val_accuracy: 0.9132\n"
     ]
    },
    {
     "data": {
      "text/plain": [
       "<tensorflow.python.keras.callbacks.History at 0x1817ecff460>"
      ]
     },
     "execution_count": 17,
     "metadata": {},
     "output_type": "execute_result"
    }
   ],
   "source": [
    "from livelossplot import PlotLossesKeras\n",
    "model.fit(x_train_std,y_train,epochs = 55,callbacks = [PlotLossesKeras()],validation_data = (x_test_std,y_test))\n"
   ]
  },
  {
   "cell_type": "code",
   "execution_count": 14,
   "id": "0771476d",
   "metadata": {},
   "outputs": [
    {
     "name": "stdout",
     "output_type": "stream",
     "text": [
      "Model: \"sequential\"\n",
      "_________________________________________________________________\n",
      "Layer (type)                 Output Shape              Param #   \n",
      "=================================================================\n",
      "dense (Dense)                (None, 20)                320       \n",
      "_________________________________________________________________\n",
      "dense_1 (Dense)              (None, 20)                420       \n",
      "_________________________________________________________________\n",
      "dense_2 (Dense)              (None, 1)                 21        \n",
      "=================================================================\n",
      "Total params: 761\n",
      "Trainable params: 761\n",
      "Non-trainable params: 0\n",
      "_________________________________________________________________\n",
      "(655, 15)\n",
      "(655,)\n"
     ]
    }
   ],
   "source": [
    "model.summary()\n",
    "print(x_train.shape)\n",
    "print(y_train.shape)"
   ]
  },
  {
   "cell_type": "code",
   "execution_count": null,
   "id": "d74c8bf5",
   "metadata": {},
   "outputs": [],
   "source": []
  }
 ],
 "metadata": {
  "kernelspec": {
   "display_name": "Python 3",
   "language": "python",
   "name": "python3"
  },
  "language_info": {
   "codemirror_mode": {
    "name": "ipython",
    "version": 3
   },
   "file_extension": ".py",
   "mimetype": "text/x-python",
   "name": "python",
   "nbconvert_exporter": "python",
   "pygments_lexer": "ipython3",
   "version": "3.8.8"
  }
 },
 "nbformat": 4,
 "nbformat_minor": 5
}
